{
 "cells": [
  {
   "cell_type": "markdown",
   "metadata": {},
   "source": [
    "# Overview of Chi-Square Test\n",
    "---\n",
    "![Image](data:image/jpeg;base64,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)\n",
    "\n",
    "This notebook provides an in-depth analysis of chi-square tests on a medical cost dataset, specifically exploring the relationships between various categorical variables.\n"
   ]
  },
  {
   "cell_type": "code",
   "execution_count": 2,
   "metadata": {},
   "outputs": [
    {
     "data": {
      "text/html": [
       "<div>\n",
       "<style scoped>\n",
       "    .dataframe tbody tr th:only-of-type {\n",
       "        vertical-align: middle;\n",
       "    }\n",
       "\n",
       "    .dataframe tbody tr th {\n",
       "        vertical-align: top;\n",
       "    }\n",
       "\n",
       "    .dataframe thead th {\n",
       "        text-align: right;\n",
       "    }\n",
       "</style>\n",
       "<table border=\"1\" class=\"dataframe\">\n",
       "  <thead>\n",
       "    <tr style=\"text-align: right;\">\n",
       "      <th></th>\n",
       "      <th>Unnamed: 0</th>\n",
       "      <th>age</th>\n",
       "      <th>sex</th>\n",
       "      <th>bmi</th>\n",
       "      <th>children</th>\n",
       "      <th>smoker</th>\n",
       "      <th>region</th>\n",
       "      <th>charges</th>\n",
       "      <th>bmi_category</th>\n",
       "    </tr>\n",
       "  </thead>\n",
       "  <tbody>\n",
       "    <tr>\n",
       "      <th>0</th>\n",
       "      <td>0</td>\n",
       "      <td>19</td>\n",
       "      <td>female</td>\n",
       "      <td>27.900</td>\n",
       "      <td>0</td>\n",
       "      <td>yes</td>\n",
       "      <td>southwest</td>\n",
       "      <td>16884.92400</td>\n",
       "      <td>overweight</td>\n",
       "    </tr>\n",
       "    <tr>\n",
       "      <th>1</th>\n",
       "      <td>1</td>\n",
       "      <td>18</td>\n",
       "      <td>male</td>\n",
       "      <td>33.770</td>\n",
       "      <td>1</td>\n",
       "      <td>no</td>\n",
       "      <td>southeast</td>\n",
       "      <td>1725.55230</td>\n",
       "      <td>obesity</td>\n",
       "    </tr>\n",
       "    <tr>\n",
       "      <th>2</th>\n",
       "      <td>2</td>\n",
       "      <td>28</td>\n",
       "      <td>male</td>\n",
       "      <td>33.000</td>\n",
       "      <td>3</td>\n",
       "      <td>no</td>\n",
       "      <td>southeast</td>\n",
       "      <td>4449.46200</td>\n",
       "      <td>obesity</td>\n",
       "    </tr>\n",
       "    <tr>\n",
       "      <th>3</th>\n",
       "      <td>3</td>\n",
       "      <td>33</td>\n",
       "      <td>male</td>\n",
       "      <td>22.705</td>\n",
       "      <td>0</td>\n",
       "      <td>no</td>\n",
       "      <td>northwest</td>\n",
       "      <td>21984.47061</td>\n",
       "      <td>normal</td>\n",
       "    </tr>\n",
       "    <tr>\n",
       "      <th>4</th>\n",
       "      <td>4</td>\n",
       "      <td>32</td>\n",
       "      <td>male</td>\n",
       "      <td>28.880</td>\n",
       "      <td>0</td>\n",
       "      <td>no</td>\n",
       "      <td>northwest</td>\n",
       "      <td>3866.85520</td>\n",
       "      <td>overweight</td>\n",
       "    </tr>\n",
       "  </tbody>\n",
       "</table>\n",
       "</div>"
      ],
      "text/plain": [
       "   Unnamed: 0  age     sex     bmi  children smoker     region      charges  \\\n",
       "0           0   19  female  27.900         0    yes  southwest  16884.92400   \n",
       "1           1   18    male  33.770         1     no  southeast   1725.55230   \n",
       "2           2   28    male  33.000         3     no  southeast   4449.46200   \n",
       "3           3   33    male  22.705         0     no  northwest  21984.47061   \n",
       "4           4   32    male  28.880         0     no  northwest   3866.85520   \n",
       "\n",
       "  bmi_category  \n",
       "0   overweight  \n",
       "1      obesity  \n",
       "2      obesity  \n",
       "3       normal  \n",
       "4   overweight  "
      ]
     },
     "execution_count": 2,
     "metadata": {},
     "output_type": "execute_result"
    }
   ],
   "source": [
    "# importing required libraries\n",
    "\n",
    "import numpy as np\n",
    "import pandas as pd\n",
    "import matplotlib.pyplot as plt\n",
    "import seaborn as sns\n",
    "from scipy import stats\n",
    "\n",
    "# importing dataset\n",
    "df = pd.read_csv('insurance.csv')\n",
    "df.head()"
   ]
  },
  {
   "cell_type": "code",
   "execution_count": 50,
   "metadata": {},
   "outputs": [],
   "source": [
    "# defining a function to generate a chi-square plot\n",
    "def generate_chi2_plot(critical_val,chi2_stats,_df,size,cl):\n",
    "    chi2_rvs = stats.chi2.rvs(df=_df, size=size)\n",
    "\n",
    "    sns.histplot(chi2_rvs, label=f\"df={_df}\",\n",
    "                 fill=True,kde=True,color=cl)\n",
    "    plt.axvline(x=critical_val, color='red', \n",
    "                linestyle='--', linewidth=2, \n",
    "                label='Critical Value')\n",
    "    plt.axvline(x=chi2_stats, color='black', \n",
    "                linestyle='--', linewidth=2, \n",
    "                label='Chi2 Statistic')\n",
    "\n",
    "    plt.xlabel('Chi-Square Value'.capitalize())\n",
    "    plt.ylabel('Density'.capitalize())\n",
    "    plt.title(f'Chi-Square Distribution (df={_df})')\n",
    "\n",
    "    plt.legend()\n",
    "    plt.tight_layout()  # Ensure labels fit within the figure area\n",
    "    plt.show()"
   ]
  },
  {
   "cell_type": "markdown",
   "metadata": {},
   "source": [
    "\n",
    "# Goodness of Fit-Test\n",
    "---\n",
    "\n",
    "- Formula : sum[(obs-exp)**2 / exp] \n",
    "- It uses chi-square distribution, where the degree of freedom (df) will be : 1-(total no. of categories)\n",
    "- Assumption: The frequency of all categories should be greater than 5.\n",
    "- A greater value of Chi-square statistic represents large difference b/w obs. & expected.\n",
    "\n",
    "\n",
    "### **if chi2_statistic > critical_value or p_value < 0.05: Reject the Null Hypothesis**\n",
    "\n",
    "\n"
   ]
  },
  {
   "cell_type": "markdown",
   "metadata": {},
   "source": [
    "### Formulating Hypothesis: **Is gender a significant factor in the distribution of smokers among individuals seeking medical insurance?**\n",
    "---\n",
    "**Null Hypothesis (H0)**: The proportion of male smokers seeking medical insurance is equal to the proportion of female smokers seeking medical insurance.\n",
    "\n",
    "**Alternative Hypothesis (H1)**: The proportion of male smokers seeking medical insurance is different from the proportion of female smokers seeking medical insurance."
   ]
  },
  {
   "cell_type": "code",
   "execution_count": 55,
   "metadata": {},
   "outputs": [
    {
     "data": {
      "text/html": [
       "<div>\n",
       "<style scoped>\n",
       "    .dataframe tbody tr th:only-of-type {\n",
       "        vertical-align: middle;\n",
       "    }\n",
       "\n",
       "    .dataframe tbody tr th {\n",
       "        vertical-align: top;\n",
       "    }\n",
       "\n",
       "    .dataframe thead th {\n",
       "        text-align: right;\n",
       "    }\n",
       "</style>\n",
       "<table border=\"1\" class=\"dataframe\">\n",
       "  <thead>\n",
       "    <tr style=\"text-align: right;\">\n",
       "      <th></th>\n",
       "      <th>sex</th>\n",
       "      <th>observed</th>\n",
       "      <th>expected</th>\n",
       "    </tr>\n",
       "  </thead>\n",
       "  <tbody>\n",
       "    <tr>\n",
       "      <th>0</th>\n",
       "      <td>male</td>\n",
       "      <td>159</td>\n",
       "      <td>137</td>\n",
       "    </tr>\n",
       "    <tr>\n",
       "      <th>1</th>\n",
       "      <td>female</td>\n",
       "      <td>115</td>\n",
       "      <td>137</td>\n",
       "    </tr>\n",
       "  </tbody>\n",
       "</table>\n",
       "</div>"
      ],
      "text/plain": [
       "      sex  observed  expected\n",
       "0    male       159       137\n",
       "1  female       115       137"
      ]
     },
     "execution_count": 55,
     "metadata": {},
     "output_type": "execute_result"
    }
   ],
   "source": [
    "# filtering the data for genders which are smokers\n",
    "smoker_df = df.query(\"smoker == 'yes'\")['sex'].value_counts().to_frame().reset_index()\n",
    "equal_prop = smoker_df['count'].sum() // 2\n",
    "\n",
    "smoker_df.rename(columns={\"count\":\"observed\"},inplace=True)\n",
    "smoker_df['expected'] = equal_prop\n",
    "\n",
    "# observed & expected frequency\n",
    "smoker_df"
   ]
  },
  {
   "cell_type": "code",
   "execution_count": 61,
   "metadata": {},
   "outputs": [
    {
     "name": "stdout",
     "output_type": "stream",
     "text": [
      "chi2 statistic: 7.065693430656935\n",
      "degree of freedom: 1\n"
     ]
    }
   ],
   "source": [
    "# calculating chi2 statistic\n",
    "chi2_stats = ((smoker_df['observed'] - smoker_df['expected'])**2 / smoker_df['expected']).sum()\n",
    "\n",
    "# degree of freedom\n",
    "_df = 1 # only either male or female smoker info is the minimum requirement for the hypothesis\n",
    "\n",
    "print(f\"chi2 statistic: {chi2_stats}\")\n",
    "print(f\"degree of freedom: {_df}\")"
   ]
  },
  {
   "cell_type": "code",
   "execution_count": 62,
   "metadata": {},
   "outputs": [
    {
     "name": "stdout",
     "output_type": "stream",
     "text": [
      "critical value : 3.841458820694124\n",
      "p_value=0.007857389588994734\n"
     ]
    }
   ],
   "source": [
    "critical_val = stats.chi2.ppf(0.95,df=_df)\n",
    "print(f\"critical value : {critical_val}\")\n",
    "\n",
    "p_value = 1 - stats.chi2.cdf(chi2_stats,_df)\n",
    "print(f\"{p_value=}\")"
   ]
  },
  {
   "cell_type": "code",
   "execution_count": 63,
   "metadata": {},
   "outputs": [
    {
     "data": {
      "text/plain": [
       "True"
      ]
     },
     "execution_count": 63,
     "metadata": {},
     "output_type": "execute_result"
    }
   ],
   "source": [
    "chi2_stats > critical_val"
   ]
  },
  {
   "cell_type": "code",
   "execution_count": 64,
   "metadata": {},
   "outputs": [
    {
     "data": {
      "text/plain": [
       "True"
      ]
     },
     "execution_count": 64,
     "metadata": {},
     "output_type": "execute_result"
    }
   ],
   "source": [
    "p_value < 0.05"
   ]
  },
  {
   "cell_type": "code",
   "execution_count": 65,
   "metadata": {},
   "outputs": [
    {
     "data": {
      "image/png": "[encoded data removed]",
      "text/plain": [
       "<Figure size 640x480 with 1 Axes>"
      ]
     },
     "metadata": {},
     "output_type": "display_data"
    }
   ],
   "source": [
    "# let's have a look at the chi square test plot\n",
    "generate_chi2_plot(critical_val=critical_val,\n",
    "                   chi2_stats=chi2_stats,\n",
    "                   _df=_df,cl='y',\n",
    "                   size=equal_prop*2)"
   ]
  },
  {
   "cell_type": "markdown",
   "metadata": {},
   "source": [
    ">**The chi-square statistic exceed the critical value in the chi2 distribution of df=1, in other words the p-value is less than 0.05. Hence we *reject* the null hypothesis and conclude that there not enough evidence to say that the male and female smokers exist in equal proportion of medical insurance.**\n"
   ]
  },
  {
   "cell_type": "markdown",
   "metadata": {},
   "source": [
    "### Formulating Hypothesis: **Do patients from various regions have an equal likelihood of seeking medical insurance?**\n",
    "---\n",
    "**Null Hypothesis (H0)**: The patients from all regions have an equal likelihood of seeking medical insurance.\n",
    "\n",
    "**Alternative Hypothesis (H1)**: The patients from all regions have an unequal likelihood of seeking medical insurance."
   ]
  },
  {
   "cell_type": "code",
   "execution_count": 66,
   "metadata": {},
   "outputs": [
    {
     "data": {
      "text/html": [
       "<div>\n",
       "<style scoped>\n",
       "    .dataframe tbody tr th:only-of-type {\n",
       "        vertical-align: middle;\n",
       "    }\n",
       "\n",
       "    .dataframe tbody tr th {\n",
       "        vertical-align: top;\n",
       "    }\n",
       "\n",
       "    .dataframe thead th {\n",
       "        text-align: right;\n",
       "    }\n",
       "</style>\n",
       "<table border=\"1\" class=\"dataframe\">\n",
       "  <thead>\n",
       "    <tr style=\"text-align: right;\">\n",
       "      <th></th>\n",
       "      <th>region</th>\n",
       "      <th>observed</th>\n",
       "      <th>expected</th>\n",
       "    </tr>\n",
       "  </thead>\n",
       "  <tbody>\n",
       "    <tr>\n",
       "      <th>0</th>\n",
       "      <td>southeast</td>\n",
       "      <td>364</td>\n",
       "      <td>334</td>\n",
       "    </tr>\n",
       "    <tr>\n",
       "      <th>1</th>\n",
       "      <td>southwest</td>\n",
       "      <td>325</td>\n",
       "      <td>334</td>\n",
       "    </tr>\n",
       "    <tr>\n",
       "      <th>2</th>\n",
       "      <td>northwest</td>\n",
       "      <td>325</td>\n",
       "      <td>334</td>\n",
       "    </tr>\n",
       "    <tr>\n",
       "      <th>3</th>\n",
       "      <td>northeast</td>\n",
       "      <td>324</td>\n",
       "      <td>334</td>\n",
       "    </tr>\n",
       "  </tbody>\n",
       "</table>\n",
       "</div>"
      ],
      "text/plain": [
       "      region  observed  expected\n",
       "0  southeast       364       334\n",
       "1  southwest       325       334\n",
       "2  northwest       325       334\n",
       "3  northeast       324       334"
      ]
     },
     "execution_count": 66,
     "metadata": {},
     "output_type": "execute_result"
    }
   ],
   "source": [
    "region_df = df.region.value_counts().to_frame().reset_index()\n",
    "equal_prop = region_df['count'].sum() // 4\n",
    "\n",
    "region_df.rename(columns={\"count\":\"observed\"},inplace=True)\n",
    "region_df['expected'] = equal_prop\n",
    "\n",
    "# observed & expected frequency\n",
    "region_df"
   ]
  },
  {
   "cell_type": "code",
   "execution_count": 67,
   "metadata": {},
   "outputs": [
    {
     "name": "stdout",
     "output_type": "stream",
     "text": [
      "chi2 statistic: 3.479041916167665\n",
      "degree of freedom: 3\n",
      "critical value : 11.344866730144373\n",
      "p_value=0.3234905040971149\n"
     ]
    }
   ],
   "source": [
    "# calculating chi2 statistic\n",
    "chi2_stats = ((region_df['observed'] - region_df['expected'])**2 / region_df['expected']).sum()\n",
    "# degree of freedom\n",
    "_df = 3\n",
    "\n",
    "print(f\"chi2 statistic: {chi2_stats}\")\n",
    "print(f\"degree of freedom: {_df}\")\n",
    "\n",
    "critical_val = stats.chi2.ppf(0.99,df=_df)\n",
    "print(f\"critical value : {critical_val}\")\n",
    "\n",
    "p_value = 1 - stats.chi2.cdf(chi2_stats,_df)\n",
    "print(f\"{p_value=}\")"
   ]
  },
  {
   "cell_type": "code",
   "execution_count": 68,
   "metadata": {},
   "outputs": [
    {
     "data": {
      "text/plain": [
       "False"
      ]
     },
     "execution_count": 68,
     "metadata": {},
     "output_type": "execute_result"
    }
   ],
   "source": [
    "chi2_stats > critical_val"
   ]
  },
  {
   "cell_type": "code",
   "execution_count": 69,
   "metadata": {},
   "outputs": [
    {
     "data": {
      "text/plain": [
       "False"
      ]
     },
     "execution_count": 69,
     "metadata": {},
     "output_type": "execute_result"
    }
   ],
   "source": [
    "p_value < 0.05"
   ]
  },
  {
   "cell_type": "code",
   "execution_count": 70,
   "metadata": {},
   "outputs": [
    {
     "data": {
      "image/png": "[encoded data removed]",
      "text/plain": [
       "<Figure size 640x480 with 1 Axes>"
      ]
     },
     "metadata": {},
     "output_type": "display_data"
    }
   ],
   "source": [
    "# let's have a look at the chi square test plot\n",
    "generate_chi2_plot(critical_val=critical_val,\n",
    "                   chi2_stats=chi2_stats,\n",
    "                   _df=_df,cl='b',\n",
    "                   size=equal_prop*4)"
   ]
  },
  {
   "cell_type": "markdown",
   "metadata": {},
   "source": [
    ">**Based on the chi-square test results at both 95% and 99% confidence levels, there is no statistically significant difference in the proportion of patients seeking medical insurance across different regions. This suggests that patients from all regions are equally likely to seek medical insurance.**\n",
    "\n",
    ">**Furthermore, from a practical perspective, it's reasonable to assume that individuals in all regions would require medical care at some point. This aligns with the statistical findings, reinforcing the conclusion that there is no significant regional variation in the need for medical insurance.**"
   ]
  },
  {
   "cell_type": "markdown",
   "metadata": {},
   "source": [
    "\n",
    "# Test for Independence\n",
    "---"
   ]
  },
  {
   "cell_type": "markdown",
   "metadata": {},
   "source": [
    "#### Formulating Hypothesis : **Is there enough evidence to suggest that different BMI Category is independent of sex?**\n",
    "\n",
    "**Null Hypothesis (H0)**: BMI Category is independent of sex.   \n",
    "\n",
    "\n",
    "**Alternative Hypothesis (H1)**: BMI Category is not independent of sex.\n"
   ]
  },
  {
   "cell_type": "code",
   "execution_count": 83,
   "metadata": {},
   "outputs": [
    {
     "data": {
      "text/html": [
       "<div>\n",
       "<style scoped>\n",
       "    .dataframe tbody tr th:only-of-type {\n",
       "        vertical-align: middle;\n",
       "    }\n",
       "\n",
       "    .dataframe tbody tr th {\n",
       "        vertical-align: top;\n",
       "    }\n",
       "\n",
       "    .dataframe thead th {\n",
       "        text-align: right;\n",
       "    }\n",
       "</style>\n",
       "<table border=\"1\" class=\"dataframe\">\n",
       "  <thead>\n",
       "    <tr style=\"text-align: right;\">\n",
       "      <th>sex</th>\n",
       "      <th>female</th>\n",
       "      <th>male</th>\n",
       "    </tr>\n",
       "    <tr>\n",
       "      <th>bmi_category</th>\n",
       "      <th></th>\n",
       "      <th></th>\n",
       "    </tr>\n",
       "  </thead>\n",
       "  <tbody>\n",
       "    <tr>\n",
       "      <th>normal</th>\n",
       "      <td>119</td>\n",
       "      <td>108</td>\n",
       "    </tr>\n",
       "    <tr>\n",
       "      <th>obesity</th>\n",
       "      <td>342</td>\n",
       "      <td>374</td>\n",
       "    </tr>\n",
       "    <tr>\n",
       "      <th>overweight</th>\n",
       "      <td>189</td>\n",
       "      <td>186</td>\n",
       "    </tr>\n",
       "  </tbody>\n",
       "</table>\n",
       "</div>"
      ],
      "text/plain": [
       "sex           female  male\n",
       "bmi_category              \n",
       "normal           119   108\n",
       "obesity          342   374\n",
       "overweight       189   186"
      ]
     },
     "execution_count": 83,
     "metadata": {},
     "output_type": "execute_result"
    }
   ],
   "source": [
    "# dropping the underweight from bmi category as it violates the assumption o chi2 test i.e. obs. frq. > 5\n",
    "obs_crosstab = pd.crosstab(index=df.query('bmi_category != \"underweight\"')['bmi_category'],\n",
    "                       columns=df['sex'])\n",
    "\n",
    "obs_crosstab"
   ]
  },
  {
   "cell_type": "code",
   "execution_count": 84,
   "metadata": {},
   "outputs": [
    {
     "data": {
      "text/html": [
       "<div>\n",
       "<style scoped>\n",
       "    .dataframe tbody tr th:only-of-type {\n",
       "        vertical-align: middle;\n",
       "    }\n",
       "\n",
       "    .dataframe tbody tr th {\n",
       "        vertical-align: top;\n",
       "    }\n",
       "\n",
       "    .dataframe thead th {\n",
       "        text-align: right;\n",
       "    }\n",
       "</style>\n",
       "<table border=\"1\" class=\"dataframe\">\n",
       "  <thead>\n",
       "    <tr style=\"text-align: right;\">\n",
       "      <th>sex</th>\n",
       "      <th>female</th>\n",
       "      <th>male</th>\n",
       "    </tr>\n",
       "    <tr>\n",
       "      <th>bmi_category</th>\n",
       "      <th></th>\n",
       "      <th></th>\n",
       "    </tr>\n",
       "  </thead>\n",
       "  <tbody>\n",
       "    <tr>\n",
       "      <th>normal</th>\n",
       "      <td>111.949924</td>\n",
       "      <td>115.050076</td>\n",
       "    </tr>\n",
       "    <tr>\n",
       "      <th>obesity</th>\n",
       "      <td>353.110774</td>\n",
       "      <td>362.889226</td>\n",
       "    </tr>\n",
       "    <tr>\n",
       "      <th>overweight</th>\n",
       "      <td>184.939302</td>\n",
       "      <td>190.060698</td>\n",
       "    </tr>\n",
       "  </tbody>\n",
       "</table>\n",
       "</div>"
      ],
      "text/plain": [
       "sex               female        male\n",
       "bmi_category                        \n",
       "normal        111.949924  115.050076\n",
       "obesity       353.110774  362.889226\n",
       "overweight    184.939302  190.060698"
      ]
     },
     "execution_count": 84,
     "metadata": {},
     "output_type": "execute_result"
    }
   ],
   "source": [
    "row_total = obs_crosstab.sum(axis=1)\n",
    "col_total = obs_crosstab.sum(axis=0)\n",
    "\n",
    "expected_freq = pd.DataFrame(np.outer(row_total,col_total) / row_total.sum(),\n",
    "             columns=obs_crosstab.columns,\n",
    "             index=obs_crosstab.index)\n",
    "expected_freq"
   ]
  },
  {
   "cell_type": "code",
   "execution_count": 91,
   "metadata": {},
   "outputs": [
    {
     "name": "stdout",
     "output_type": "stream",
     "text": [
      "Chi-square test statistic: 1.7417050891629815\n",
      "p-value: 0.4185945265849137\n",
      "Degrees of freedom: 2\n"
     ]
    }
   ],
   "source": [
    "chi2_stats,p_value,dof,expected = stats.chi2_contingency(observed=obs_crosstab)\n",
    "\n",
    "print(\"Chi-square test statistic:\", chi2_stats)\n",
    "print(\"p-value:\", p_value)\n",
    "print(\"Degrees of freedom:\", dof)"
   ]
  },
  {
   "cell_type": "code",
   "execution_count": 89,
   "metadata": {},
   "outputs": [
    {
     "data": {
      "text/plain": [
       "False"
      ]
     },
     "execution_count": 89,
     "metadata": {},
     "output_type": "execute_result"
    }
   ],
   "source": [
    "critical_val = stats.chi2.ppf(0.95, df=dof)\n",
    "chi2_stats > critical_val"
   ]
  },
  {
   "cell_type": "code",
   "execution_count": 90,
   "metadata": {},
   "outputs": [
    {
     "data": {
      "text/plain": [
       "False"
      ]
     },
     "execution_count": 90,
     "metadata": {},
     "output_type": "execute_result"
    }
   ],
   "source": [
    "p_value < 0.05"
   ]
  },
  {
   "cell_type": "code",
   "execution_count": 97,
   "metadata": {},
   "outputs": [
    {
     "data": {
      "image/png": "[encoded data removed]",
      "text/plain": [
       "<Figure size 640x480 with 1 Axes>"
      ]
     },
     "metadata": {},
     "output_type": "display_data"
    }
   ],
   "source": [
    "generate_chi2_plot(critical_val=critical_val,\n",
    "                   chi2_stats=chi2_stats,\n",
    "                   _df=dof,cl='g',\n",
    "                   size=row_total.sum())"
   ]
  },
  {
   "cell_type": "markdown",
   "metadata": {},
   "source": [
    "> **As the chi2_statistic falls under the non-rejection region, from the given data we can conclude that the BMI Category is independent of sex of patients.**"
   ]
  }
 ],
 "metadata": {
  "kernelspec": {
   "display_name": "Python 3",
   "language": "python",
   "name": "python3"
  },
  "language_info": {
   "codemirror_mode": {
    "name": "ipython",
    "version": 3
   },
   "file_extension": ".py",
   "mimetype": "text/x-python",
   "name": "python",
   "nbconvert_exporter": "python",
   "pygments_lexer": "ipython3",
   "version": "3.11.9"
  }
 },
 "nbformat": 4,
 "nbformat_minor": 2
}
